{
 "cells": [
  {
   "cell_type": "markdown",
   "metadata": {},
   "source": [
    "# Question 4 : (14 total points) Evaluating Binary Classifiers\n",
    "**In this question we will perform performance evaluation of binary classifiers.**\n",
    "You have been tasked with evaluating the performance of four different binary classification algorithms, `alg_1, alg_2, alg_3, and alg_4`. Unfortunately, you do not have access to the models themselves, only their predictions on a held-out test set. Your goal is to evaluate how well the different models perform at predicting the ground truth class labels `gt` for this test set.\n",
    "The dataset is contained in classification_eval_1.csv. You should load it into a Pandas DataFrame using pandas.read_csv()."
   ]
  },
  {
   "cell_type": "code",
   "execution_count": 1,
   "metadata": {},
   "outputs": [
    {
     "name": "stderr",
     "output_type": "stream",
     "text": [
      "/Users/davemalvin/miniconda3/envs/py3iaml/lib/python3.7/site-packages/sklearn/utils/__init__.py:4: DeprecationWarning: Using or importing the ABCs from 'collections' instead of from 'collections.abc' is deprecated since Python 3.3,and in 3.9 it will stop working\n",
      "  from collections import Sequence\n"
     ]
    }
   ],
   "source": [
    "# Import packages\n",
    "import os\n",
    "import numpy as np \n",
    "import pandas as pd\n",
    "import matplotlib.pyplot as plt\n",
    "from sklearn.metrics import accuracy_score, roc_auc_score, roc_curve\n",
    "%matplotlib inline"
   ]
  },
  {
   "cell_type": "code",
   "execution_count": 2,
   "metadata": {},
   "outputs": [],
   "source": [
    "# Load the dataset\n",
    "data_path = os.path.join(os.getcwd(), 'data', 'classification_eval_1.csv')\n",
    "dset = pd.read_csv(data_path, delimiter = ',')"
   ]
  },
  {
   "cell_type": "code",
   "execution_count": 3,
   "metadata": {},
   "outputs": [
    {
     "data": {
      "text/html": [
       "<div>\n",
       "<style scoped>\n",
       "    .dataframe tbody tr th:only-of-type {\n",
       "        vertical-align: middle;\n",
       "    }\n",
       "\n",
       "    .dataframe tbody tr th {\n",
       "        vertical-align: top;\n",
       "    }\n",
       "\n",
       "    .dataframe thead th {\n",
       "        text-align: right;\n",
       "    }\n",
       "</style>\n",
       "<table border=\"1\" class=\"dataframe\">\n",
       "  <thead>\n",
       "    <tr style=\"text-align: right;\">\n",
       "      <th></th>\n",
       "      <th>gt</th>\n",
       "      <th>alg_1</th>\n",
       "      <th>alg_2</th>\n",
       "      <th>alg_3</th>\n",
       "      <th>alg_4</th>\n",
       "    </tr>\n",
       "  </thead>\n",
       "  <tbody>\n",
       "    <tr>\n",
       "      <th>0</th>\n",
       "      <td>0</td>\n",
       "      <td>0.051302</td>\n",
       "      <td>0.000000</td>\n",
       "      <td>0.821882</td>\n",
       "      <td>0.705028</td>\n",
       "    </tr>\n",
       "    <tr>\n",
       "      <th>1</th>\n",
       "      <td>0</td>\n",
       "      <td>0.695441</td>\n",
       "      <td>1.000000</td>\n",
       "      <td>1.000000</td>\n",
       "      <td>0.741789</td>\n",
       "    </tr>\n",
       "    <tr>\n",
       "      <th>2</th>\n",
       "      <td>1</td>\n",
       "      <td>0.471121</td>\n",
       "      <td>0.913034</td>\n",
       "      <td>0.000000</td>\n",
       "      <td>1.000000</td>\n",
       "    </tr>\n",
       "    <tr>\n",
       "      <th>3</th>\n",
       "      <td>1</td>\n",
       "      <td>1.000000</td>\n",
       "      <td>1.000000</td>\n",
       "      <td>0.000000</td>\n",
       "      <td>1.000000</td>\n",
       "    </tr>\n",
       "    <tr>\n",
       "      <th>4</th>\n",
       "      <td>0</td>\n",
       "      <td>0.857339</td>\n",
       "      <td>0.000000</td>\n",
       "      <td>0.296797</td>\n",
       "      <td>0.809736</td>\n",
       "    </tr>\n",
       "  </tbody>\n",
       "</table>\n",
       "</div>"
      ],
      "text/plain": [
       "   gt     alg_1     alg_2     alg_3     alg_4\n",
       "0   0  0.051302  0.000000  0.821882  0.705028\n",
       "1   0  0.695441  1.000000  1.000000  0.741789\n",
       "2   1  0.471121  0.913034  0.000000  1.000000\n",
       "3   1  1.000000  1.000000  0.000000  1.000000\n",
       "4   0  0.857339  0.000000  0.296797  0.809736"
      ]
     },
     "execution_count": 3,
     "metadata": {},
     "output_type": "execute_result"
    }
   ],
   "source": [
    "dset.head(5)"
   ]
  },
  {
   "cell_type": "code",
   "execution_count": 4,
   "metadata": {},
   "outputs": [
    {
     "data": {
      "text/html": [
       "<div>\n",
       "<style scoped>\n",
       "    .dataframe tbody tr th:only-of-type {\n",
       "        vertical-align: middle;\n",
       "    }\n",
       "\n",
       "    .dataframe tbody tr th {\n",
       "        vertical-align: top;\n",
       "    }\n",
       "\n",
       "    .dataframe thead th {\n",
       "        text-align: right;\n",
       "    }\n",
       "</style>\n",
       "<table border=\"1\" class=\"dataframe\">\n",
       "  <thead>\n",
       "    <tr style=\"text-align: right;\">\n",
       "      <th></th>\n",
       "      <th>gt</th>\n",
       "      <th>alg_1</th>\n",
       "      <th>alg_2</th>\n",
       "      <th>alg_3</th>\n",
       "      <th>alg_4</th>\n",
       "    </tr>\n",
       "  </thead>\n",
       "  <tbody>\n",
       "    <tr>\n",
       "      <th>count</th>\n",
       "      <td>1000.000000</td>\n",
       "      <td>1000.000000</td>\n",
       "      <td>1000.000000</td>\n",
       "      <td>1000.000000</td>\n",
       "      <td>1000.000000</td>\n",
       "    </tr>\n",
       "    <tr>\n",
       "      <th>mean</th>\n",
       "      <td>0.202000</td>\n",
       "      <td>0.493739</td>\n",
       "      <td>0.518386</td>\n",
       "      <td>0.491591</td>\n",
       "      <td>0.743101</td>\n",
       "    </tr>\n",
       "    <tr>\n",
       "      <th>std</th>\n",
       "      <td>0.401693</td>\n",
       "      <td>0.383203</td>\n",
       "      <td>0.426419</td>\n",
       "      <td>0.304036</td>\n",
       "      <td>0.194130</td>\n",
       "    </tr>\n",
       "    <tr>\n",
       "      <th>min</th>\n",
       "      <td>0.000000</td>\n",
       "      <td>0.000000</td>\n",
       "      <td>0.000000</td>\n",
       "      <td>0.000000</td>\n",
       "      <td>0.167336</td>\n",
       "    </tr>\n",
       "    <tr>\n",
       "      <th>25%</th>\n",
       "      <td>0.000000</td>\n",
       "      <td>0.074081</td>\n",
       "      <td>0.000000</td>\n",
       "      <td>0.248341</td>\n",
       "      <td>0.597597</td>\n",
       "    </tr>\n",
       "    <tr>\n",
       "      <th>50%</th>\n",
       "      <td>0.000000</td>\n",
       "      <td>0.498969</td>\n",
       "      <td>0.549211</td>\n",
       "      <td>0.476655</td>\n",
       "      <td>0.760082</td>\n",
       "    </tr>\n",
       "    <tr>\n",
       "      <th>75%</th>\n",
       "      <td>0.000000</td>\n",
       "      <td>0.887967</td>\n",
       "      <td>1.000000</td>\n",
       "      <td>0.732685</td>\n",
       "      <td>0.919085</td>\n",
       "    </tr>\n",
       "    <tr>\n",
       "      <th>max</th>\n",
       "      <td>1.000000</td>\n",
       "      <td>1.000000</td>\n",
       "      <td>1.000000</td>\n",
       "      <td>1.000000</td>\n",
       "      <td>1.000000</td>\n",
       "    </tr>\n",
       "  </tbody>\n",
       "</table>\n",
       "</div>"
      ],
      "text/plain": [
       "                gt        alg_1        alg_2        alg_3        alg_4\n",
       "count  1000.000000  1000.000000  1000.000000  1000.000000  1000.000000\n",
       "mean      0.202000     0.493739     0.518386     0.491591     0.743101\n",
       "std       0.401693     0.383203     0.426419     0.304036     0.194130\n",
       "min       0.000000     0.000000     0.000000     0.000000     0.167336\n",
       "25%       0.000000     0.074081     0.000000     0.248341     0.597597\n",
       "50%       0.000000     0.498969     0.549211     0.476655     0.760082\n",
       "75%       0.000000     0.887967     1.000000     0.732685     0.919085\n",
       "max       1.000000     1.000000     1.000000     1.000000     1.000000"
      ]
     },
     "execution_count": 4,
     "metadata": {},
     "output_type": "execute_result"
    }
   ],
   "source": [
    "dset.describe()"
   ]
  },
  {
   "cell_type": "code",
   "execution_count": 5,
   "metadata": {},
   "outputs": [
    {
     "name": "stdout",
     "output_type": "stream",
     "text": [
      "<class 'pandas.core.frame.DataFrame'>\n",
      "RangeIndex: 1000 entries, 0 to 999\n",
      "Data columns (total 5 columns):\n",
      "gt       1000 non-null int64\n",
      "alg_1    1000 non-null float64\n",
      "alg_2    1000 non-null float64\n",
      "alg_3    1000 non-null float64\n",
      "alg_4    1000 non-null float64\n",
      "dtypes: float64(4), int64(1)\n",
      "memory usage: 39.1 KB\n"
     ]
    }
   ],
   "source": [
    "dset.info()"
   ]
  },
  {
   "cell_type": "markdown",
   "metadata": {},
   "source": [
    "# (a) (4 points) Report the classification accuracy (in %) for each of the four different models using the `gt` attribute as the ground truth class labels. Use a threshold of >= 0.5 to convert the continuous classifier outputs into binary predictions. \n",
    "Which model is the best according to this metric? What, if any, are the limitations of the above method for computing accuracy and how would you improve it without changing the metric used?"
   ]
  },
  {
   "cell_type": "code",
   "execution_count": 6,
   "metadata": {},
   "outputs": [
    {
     "data": {
      "text/html": [
       "<div>\n",
       "<style scoped>\n",
       "    .dataframe tbody tr th:only-of-type {\n",
       "        vertical-align: middle;\n",
       "    }\n",
       "\n",
       "    .dataframe tbody tr th {\n",
       "        vertical-align: top;\n",
       "    }\n",
       "\n",
       "    .dataframe thead th {\n",
       "        text-align: right;\n",
       "    }\n",
       "</style>\n",
       "<table border=\"1\" class=\"dataframe\">\n",
       "  <thead>\n",
       "    <tr style=\"text-align: right;\">\n",
       "      <th></th>\n",
       "      <th>gt</th>\n",
       "      <th>alg_1</th>\n",
       "      <th>alg_2</th>\n",
       "      <th>alg_3</th>\n",
       "      <th>alg_4</th>\n",
       "    </tr>\n",
       "  </thead>\n",
       "  <tbody>\n",
       "    <tr>\n",
       "      <th>0</th>\n",
       "      <td>0</td>\n",
       "      <td>0.0</td>\n",
       "      <td>0.0</td>\n",
       "      <td>1.0</td>\n",
       "      <td>1.0</td>\n",
       "    </tr>\n",
       "    <tr>\n",
       "      <th>1</th>\n",
       "      <td>0</td>\n",
       "      <td>1.0</td>\n",
       "      <td>1.0</td>\n",
       "      <td>1.0</td>\n",
       "      <td>1.0</td>\n",
       "    </tr>\n",
       "    <tr>\n",
       "      <th>2</th>\n",
       "      <td>1</td>\n",
       "      <td>0.0</td>\n",
       "      <td>1.0</td>\n",
       "      <td>0.0</td>\n",
       "      <td>1.0</td>\n",
       "    </tr>\n",
       "    <tr>\n",
       "      <th>3</th>\n",
       "      <td>1</td>\n",
       "      <td>1.0</td>\n",
       "      <td>1.0</td>\n",
       "      <td>0.0</td>\n",
       "      <td>1.0</td>\n",
       "    </tr>\n",
       "    <tr>\n",
       "      <th>4</th>\n",
       "      <td>0</td>\n",
       "      <td>1.0</td>\n",
       "      <td>0.0</td>\n",
       "      <td>0.0</td>\n",
       "      <td>1.0</td>\n",
       "    </tr>\n",
       "  </tbody>\n",
       "</table>\n",
       "</div>"
      ],
      "text/plain": [
       "   gt  alg_1  alg_2  alg_3  alg_4\n",
       "0   0    0.0    0.0    1.0    1.0\n",
       "1   0    1.0    1.0    1.0    1.0\n",
       "2   1    0.0    1.0    0.0    1.0\n",
       "3   1    1.0    1.0    0.0    1.0\n",
       "4   0    1.0    0.0    0.0    1.0"
      ]
     },
     "execution_count": 6,
     "metadata": {},
     "output_type": "execute_result"
    }
   ],
   "source": [
    "# Convert the continuous classifier outputs into binary predictions\n",
    "dset_binary = dset.copy(deep=True)\n",
    "dset_binary[dset_binary >= 0.5] = 1\n",
    "dset_binary[dset_binary < 0.5] = 0\n",
    "dset_binary.head(5)"
   ]
  },
  {
   "cell_type": "code",
   "execution_count": 7,
   "metadata": {},
   "outputs": [
    {
     "name": "stdout",
     "output_type": "stream",
     "text": [
      "Accuracy for alg_1 = 61.6%\n",
      "Accuracy for alg_2 = 55.00000000000001%\n",
      "Accuracy for alg_3 = 32.1%\n",
      "Accuracy for alg_4 = 32.9%\n"
     ]
    }
   ],
   "source": [
    "# Try for alg_1\n",
    "alg_1 = dset_binary.iloc[:,1:2].values\n",
    "actual = dset_binary.iloc[:,0:1].values\n",
    "acc = accuracy_score(actual,alg_1)\n",
    "\n",
    "actual = dset_binary.iloc[:,0:1].values\n",
    "for i in range(1,5):\n",
    "    alg_i = dset_binary.iloc[:,i:i+1].values\n",
    "    acc = accuracy_score(actual,alg_i) * 100\n",
    "    print(\"Accuracy for alg_{} = {}%\".format(i,acc))"
   ]
  },
  {
   "cell_type": "markdown",
   "metadata": {},
   "source": [
    "According to this metric, alg_1 gives the best accuracy. "
   ]
  },
  {
   "cell_type": "markdown",
   "metadata": {},
   "source": [
    "# (b) (4 points) Instead of using classification accuracy, report the Area Under the ROC Curve (AUC) for each model. Does the model with the best AUC also have the best accuracy? If not, why not?\n",
    "Hint: You can use the `roc_auc_score` function from sklearn."
   ]
  },
  {
   "cell_type": "code",
   "execution_count": 8,
   "metadata": {},
   "outputs": [
    {
     "name": "stdout",
     "output_type": "stream",
     "text": [
      "Area under ROC curve for alg_1 = 0.7320932281198045\n",
      "Area under ROC curve for alg_2 = 0.6316285763914737\n",
      "Area under ROC curve for alg_3 = 0.06395009801732053\n",
      "Area under ROC curve for alg_4 = 0.8473876522990644\n"
     ]
    }
   ],
   "source": [
    "for i in range(1,5):\n",
    "    alg_i = dset.iloc[:,i:i+1].values\n",
    "    area = roc_auc_score(actual,alg_i)\n",
    "    print(\"Area under ROC curve for alg_{} = {}\".format(i,area))"
   ]
  },
  {
   "cell_type": "markdown",
   "metadata": {},
   "source": [
    "No, the model with the best AUC is alg_4 but the model with the best accuracy is alg_1."
   ]
  },
  {
   "cell_type": "markdown",
   "metadata": {},
   "source": [
    "# (c) (6 points) Plot ROC curves for each of the four models on the same plot. Comment on the ROC curve for `alg_3`? Is there anything that can be done to improve the performance of `alg_3` without having to retrain the model?\n",
    "Hint: You can use the `roc_curve` function from sklearn."
   ]
  },
  {
   "cell_type": "code",
   "execution_count": 9,
   "metadata": {},
   "outputs": [
    {
     "data": {
      "image/png": "[encoded data removed]",
      "text/plain": [
       "<Figure size 504x504 with 1 Axes>"
      ]
     },
     "metadata": {
      "needs_background": "light"
     },
     "output_type": "display_data"
    }
   ],
   "source": [
    "noOfColumns = dset.shape[1]\n",
    "plt.figure(figsize=(7,7))\n",
    "for i in range(1,noOfColumns):\n",
    "    alg_i = dset.iloc[:,i:i+1].values\n",
    "    fpr, tpr, _ = roc_curve(actual,alg_i)\n",
    "    plt.plot(fpr,tpr)\n",
    "    \n",
    "plt.plot(fpr, fpr, linestyle='--') # Performance of a andom classifier\n",
    "plt.xlabel('FPR')\n",
    "plt.ylabel('TPR')\n",
    "plt.title('ROC Curves for different models')\n",
    "plt.legend(['alg_1','alg_2','alg_3','alg_4', 'Random Classifier'], loc='upper left', fontsize='small')\n",
    "plt.show()"
   ]
  }
 ],
 "metadata": {
  "kernelspec": {
   "display_name": "Python 3",
   "language": "python",
   "name": "python3"
  },
  "language_info": {
   "codemirror_mode": {
    "name": "ipython",
    "version": 3
   },
   "file_extension": ".py",
   "mimetype": "text/x-python",
   "name": "python",
   "nbconvert_exporter": "python",
   "pygments_lexer": "ipython3",
   "version": "3.7.7"
  }
 },
 "nbformat": 4,
 "nbformat_minor": 4
}
