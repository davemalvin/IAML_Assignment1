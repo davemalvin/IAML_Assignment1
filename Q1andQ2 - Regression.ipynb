{
 "cells": [
  {
   "cell_type": "markdown",
   "metadata": {},
   "source": [
    "# Question 1 : (22 total points) Linear Regression\n",
    "In this question we will fit linear regression models to data.\n",
    "Here we will investigate the relationship between the amount of time (in hours) each\n",
    "student in a class studied for an exam and their end of semester exam performance. We\n",
    "will model this relationship for each student using $y_i = φ(x_i)w$, where $φ(x_i) = [1, x_i]$ is a\n",
    "row vector and w are the model parameters we will learn. Here, yi\n",
    "is the exam score for\n",
    "student i and xi\n",
    "is the amount of time they spent revising.\n",
    "The dataset is contained in regression_part1.csv. You should load it into a Pandas\n",
    "DataFrame using pandas.read_csv()."
   ]
  },
  {
   "cell_type": "code",
   "execution_count": 1,
   "metadata": {},
   "outputs": [
    {
     "name": "stderr",
     "output_type": "stream",
     "text": [
      "/Users/davemalvin/miniconda3/envs/py3iaml/lib/python3.7/site-packages/sklearn/utils/__init__.py:4: DeprecationWarning: Using or importing the ABCs from 'collections' instead of from 'collections.abc' is deprecated since Python 3.3,and in 3.9 it will stop working\n",
      "  from collections import Sequence\n",
      "/Users/davemalvin/miniconda3/envs/py3iaml/lib/python3.7/site-packages/sklearn/ensemble/weight_boosting.py:29: DeprecationWarning: numpy.core.umath_tests is an internal NumPy module and should not be imported. It will be removed in a future NumPy release.\n",
      "  from numpy.core.umath_tests import inner1d\n"
     ]
    }
   ],
   "source": [
    "# Import packages\n",
    "import os\n",
    "import numpy as np \n",
    "import pandas as pd\n",
    "import matplotlib.pyplot as plt\n",
    "import seaborn as sns\n",
    "import graphviz\n",
    "from sklearn.model_selection import train_test_split\n",
    "from sklearn.linear_model import LinearRegression\n",
    "from sklearn.tree import DecisionTreeClassifier, export_graphviz\n",
    "from sklearn.ensemble import RandomForestClassifier\n",
    "from sklearn.metrics import accuracy_score, confusion_matrix, mean_squared_error\n",
    "from sklearn.preprocessing import PolynomialFeatures\n",
    "from sklearn.pipeline import make_pipeline\n",
    "%matplotlib inline"
   ]
  },
  {
   "cell_type": "code",
   "execution_count": 2,
   "metadata": {},
   "outputs": [],
   "source": [
    "# Load the dataset\n",
    "data_path = os.path.join(os.getcwd(), 'data', 'regression_part1.csv')\n",
    "dset = pd.read_csv(data_path, delimiter = ',')"
   ]
  },
  {
   "cell_type": "markdown",
   "metadata": {},
   "source": [
    "# (a) (3 points) Describe the main properties of the data, focusing on the size, data ranges, and data types."
   ]
  },
  {
   "cell_type": "code",
   "execution_count": 3,
   "metadata": {},
   "outputs": [
    {
     "data": {
      "text/html": [
       "<div>\n",
       "<style scoped>\n",
       "    .dataframe tbody tr th:only-of-type {\n",
       "        vertical-align: middle;\n",
       "    }\n",
       "\n",
       "    .dataframe tbody tr th {\n",
       "        vertical-align: top;\n",
       "    }\n",
       "\n",
       "    .dataframe thead th {\n",
       "        text-align: right;\n",
       "    }\n",
       "</style>\n",
       "<table border=\"1\" class=\"dataframe\">\n",
       "  <thead>\n",
       "    <tr style=\"text-align: right;\">\n",
       "      <th></th>\n",
       "      <th>revision_time</th>\n",
       "      <th>exam_score</th>\n",
       "    </tr>\n",
       "  </thead>\n",
       "  <tbody>\n",
       "    <tr>\n",
       "      <th>count</th>\n",
       "      <td>50.000000</td>\n",
       "      <td>50.000000</td>\n",
       "    </tr>\n",
       "    <tr>\n",
       "      <th>mean</th>\n",
       "      <td>22.220020</td>\n",
       "      <td>49.919860</td>\n",
       "    </tr>\n",
       "    <tr>\n",
       "      <th>std</th>\n",
       "      <td>13.986112</td>\n",
       "      <td>20.925594</td>\n",
       "    </tr>\n",
       "    <tr>\n",
       "      <th>min</th>\n",
       "      <td>2.723000</td>\n",
       "      <td>14.731000</td>\n",
       "    </tr>\n",
       "    <tr>\n",
       "      <th>25%</th>\n",
       "      <td>8.570500</td>\n",
       "      <td>32.125000</td>\n",
       "    </tr>\n",
       "    <tr>\n",
       "      <th>50%</th>\n",
       "      <td>21.688000</td>\n",
       "      <td>47.830500</td>\n",
       "    </tr>\n",
       "    <tr>\n",
       "      <th>75%</th>\n",
       "      <td>32.257500</td>\n",
       "      <td>65.069750</td>\n",
       "    </tr>\n",
       "    <tr>\n",
       "      <th>max</th>\n",
       "      <td>48.011000</td>\n",
       "      <td>94.945000</td>\n",
       "    </tr>\n",
       "  </tbody>\n",
       "</table>\n",
       "</div>"
      ],
      "text/plain": [
       "       revision_time  exam_score\n",
       "count      50.000000   50.000000\n",
       "mean       22.220020   49.919860\n",
       "std        13.986112   20.925594\n",
       "min         2.723000   14.731000\n",
       "25%         8.570500   32.125000\n",
       "50%        21.688000   47.830500\n",
       "75%        32.257500   65.069750\n",
       "max        48.011000   94.945000"
      ]
     },
     "execution_count": 3,
     "metadata": {},
     "output_type": "execute_result"
    }
   ],
   "source": [
    "dset.describe()"
   ]
  },
  {
   "cell_type": "code",
   "execution_count": 4,
   "metadata": {},
   "outputs": [
    {
     "name": "stdout",
     "output_type": "stream",
     "text": [
      "<class 'pandas.core.frame.DataFrame'>\n",
      "RangeIndex: 50 entries, 0 to 49\n",
      "Data columns (total 2 columns):\n",
      "revision_time    50 non-null float64\n",
      "exam_score       50 non-null float64\n",
      "dtypes: float64(2)\n",
      "memory usage: 880.0 bytes\n"
     ]
    }
   ],
   "source": [
    "dset.info()"
   ]
  },
  {
   "cell_type": "code",
   "execution_count": 5,
   "metadata": {},
   "outputs": [
    {
     "data": {
      "text/html": [
       "<div>\n",
       "<style scoped>\n",
       "    .dataframe tbody tr th:only-of-type {\n",
       "        vertical-align: middle;\n",
       "    }\n",
       "\n",
       "    .dataframe tbody tr th {\n",
       "        vertical-align: top;\n",
       "    }\n",
       "\n",
       "    .dataframe thead th {\n",
       "        text-align: right;\n",
       "    }\n",
       "</style>\n",
       "<table border=\"1\" class=\"dataframe\">\n",
       "  <thead>\n",
       "    <tr style=\"text-align: right;\">\n",
       "      <th></th>\n",
       "      <th>revision_time</th>\n",
       "      <th>exam_score</th>\n",
       "    </tr>\n",
       "  </thead>\n",
       "  <tbody>\n",
       "    <tr>\n",
       "      <th>0</th>\n",
       "      <td>2.723</td>\n",
       "      <td>27.682</td>\n",
       "    </tr>\n",
       "    <tr>\n",
       "      <th>1</th>\n",
       "      <td>2.844</td>\n",
       "      <td>22.998</td>\n",
       "    </tr>\n",
       "    <tr>\n",
       "      <th>2</th>\n",
       "      <td>3.303</td>\n",
       "      <td>19.765</td>\n",
       "    </tr>\n",
       "    <tr>\n",
       "      <th>3</th>\n",
       "      <td>3.588</td>\n",
       "      <td>24.481</td>\n",
       "    </tr>\n",
       "    <tr>\n",
       "      <th>4</th>\n",
       "      <td>4.050</td>\n",
       "      <td>22.974</td>\n",
       "    </tr>\n",
       "  </tbody>\n",
       "</table>\n",
       "</div>"
      ],
      "text/plain": [
       "   revision_time  exam_score\n",
       "0          2.723      27.682\n",
       "1          2.844      22.998\n",
       "2          3.303      19.765\n",
       "3          3.588      24.481\n",
       "4          4.050      22.974"
      ]
     },
     "execution_count": 5,
     "metadata": {},
     "output_type": "execute_result"
    }
   ],
   "source": [
    "dset.head()"
   ]
  },
  {
   "cell_type": "markdown",
   "metadata": {},
   "source": [
    "# (b) (3 points) Fit a linear model to the data so that we can predict exam_score from revision_time. Report the estimated model parameters w. Describe what the parameters represent for this 1D data. For this part, you should use the sklearn implementation of Linear Regression.\n",
    "Hint: By default in sklearn fit_intercept = True. Instead, set `fit_intercept = False` and pre-pend 1 to each value of $x_i$ yourself to create $φ(x_i) = [1, x_i]$."
   ]
  },
  {
   "cell_type": "code",
   "execution_count": 6,
   "metadata": {},
   "outputs": [],
   "source": [
    "rows = dset.shape[0]\n",
    "dset = np.concatenate((np.ones((rows,1)), dset), axis=1)"
   ]
  },
  {
   "cell_type": "code",
   "execution_count": 7,
   "metadata": {},
   "outputs": [
    {
     "data": {
      "text/plain": [
       "array([[ 1.   ,  2.723, 27.682],\n",
       "       [ 1.   ,  2.844, 22.998],\n",
       "       [ 1.   ,  3.303, 19.765],\n",
       "       [ 1.   ,  3.588, 24.481],\n",
       "       [ 1.   ,  4.05 , 22.974]])"
      ]
     },
     "execution_count": 7,
     "metadata": {},
     "output_type": "execute_result"
    }
   ],
   "source": [
    "dset[:5]"
   ]
  },
  {
   "cell_type": "code",
   "execution_count": 8,
   "metadata": {},
   "outputs": [
    {
     "name": "stdout",
     "output_type": "stream",
     "text": [
      "[[1.    2.723]\n",
      " [1.    2.844]\n",
      " [1.    3.303]\n",
      " [1.    3.588]\n",
      " [1.    4.05 ]]\n",
      "[27.682 22.998 19.765 24.481 22.974]\n"
     ]
    }
   ],
   "source": [
    "# Assign first two columns of dset as X and last column as y\n",
    "X = dset[:,:-1]\n",
    "y = dset[:,-1]\n",
    "print(X[:5])\n",
    "print(y[:5])"
   ]
  },
  {
   "cell_type": "code",
   "execution_count": 9,
   "metadata": {},
   "outputs": [
    {
     "data": {
      "text/plain": [
       "LinearRegression(copy_X=True, fit_intercept=False, n_jobs=1, normalize=False)"
      ]
     },
     "execution_count": 9,
     "metadata": {},
     "output_type": "execute_result"
    }
   ],
   "source": [
    "lr = LinearRegression(fit_intercept=False)\n",
    "lr.fit(X,y)"
   ]
  },
  {
   "cell_type": "code",
   "execution_count": 10,
   "metadata": {},
   "outputs": [
    {
     "data": {
      "text/plain": [
       "array([17.89768026,  1.44114091])"
      ]
     },
     "execution_count": 10,
     "metadata": {},
     "output_type": "execute_result"
    }
   ],
   "source": [
    "# This is the model parameter w\n",
    "lr.coef_"
   ]
  },
  {
   "cell_type": "code",
   "execution_count": 11,
   "metadata": {},
   "outputs": [
    {
     "data": {
      "text/plain": [
       "0.0"
      ]
     },
     "execution_count": 11,
     "metadata": {},
     "output_type": "execute_result"
    }
   ],
   "source": [
    "lr.intercept_"
   ]
  },
  {
   "cell_type": "markdown",
   "metadata": {},
   "source": [
    "# (c) (3 points) Display the fitted linear model and the input data on the same plot."
   ]
  },
  {
   "cell_type": "code",
   "execution_count": 12,
   "metadata": {},
   "outputs": [],
   "source": [
    "def plot_regression_line(lr,min_X, max_X):  \n",
    "    x = np.array(range(min_X, max_X))  \n",
    "    y = x * lr.coef_[1] + lr.coef_[0]\n",
    "    plt.plot(x, y)"
   ]
  },
  {
   "cell_type": "code",
   "execution_count": 13,
   "metadata": {},
   "outputs": [
    {
     "data": {
      "image/png": "[encoded data removed]",
      "text/plain": [
       "<Figure size 504x504 with 1 Axes>"
      ]
     },
     "metadata": {
      "needs_background": "light"
     },
     "output_type": "display_data"
    }
   ],
   "source": [
    "plt.figure(figsize=(7,7))\n",
    "\n",
    "plot_regression_line(lr,0,50)\n",
    "\n",
    "# Remove the column of 1s\n",
    "input_X = X[:,1:]\n",
    "plt.scatter(input_X,y)\n",
    "\n",
    "plt.xlabel('revision_time')\n",
    "plt.ylabel('exam_score')\n",
    "plt.title('Revision_time vs Exam_score (on Training data)')\n",
    "plt.show()"
   ]
  },
  {
   "cell_type": "markdown",
   "metadata": {},
   "source": [
    "# (d) (3 points) Instead of using sklearn, implement the closed-form solution for fitting a linear regression model yourself using numpy array operations. Report your code in the answer box. It should only take a few lines (i.e. <5).\n",
    "Hint: Only report the relevant lines for estimating w e.g. we do not need to see the data\n",
    "loading code. You can write the code in the answer box directly or paste in an image of\n",
    "it."
   ]
  },
  {
   "cell_type": "code",
   "execution_count": 14,
   "metadata": {},
   "outputs": [
    {
     "name": "stdout",
     "output_type": "stream",
     "text": [
      "Model parameters: [17.89768026  1.44114091]\n"
     ]
    },
    {
     "data": {
      "text/plain": [
       "array([21.82190694, 21.99628499, 22.65776867, 23.06849383, 23.73430093,\n",
       "       23.77753515, 26.07471376, 26.63099415, 27.04460159, 27.72482009,\n",
       "       28.12689841, 28.72785416, 29.93985366, 31.17635256, 32.8336646 ,\n",
       "       33.04407117, 35.3383675 , 36.90200538, 41.95320425, 42.36392941,\n",
       "       44.31379306, 46.14260086, 47.1831046 , 48.56515873, 48.99461872,\n",
       "       49.31166972, 49.67195494, 53.85270471, 54.13805061, 56.08070855,\n",
       "       56.13835418, 59.23968941, 59.77002927, 62.63501739, 64.26783003,\n",
       "       64.30674084, 64.33988708, 64.400415  , 65.03884042, 65.29104007,\n",
       "       67.60118895, 68.17764531, 71.65079489, 76.80431477, 77.34330147,\n",
       "       83.05598402, 83.32115394, 85.52033496, 86.81015607, 87.08829627])"
      ]
     },
     "execution_count": 14,
     "metadata": {},
     "output_type": "execute_result"
    }
   ],
   "source": [
    "pseudoInverse = np.linalg.inv((X.T).dot(X)).dot(X.T)\n",
    "w = pseudoInverse.dot(y)\n",
    "y_preds_cf = X.dot(w)\n",
    "\n",
    "print(\"Model parameters: {}\".format(w))\n",
    "y_preds_cf"
   ]
  },
  {
   "cell_type": "markdown",
   "metadata": {},
   "source": [
    "# (f) (3 points) Our next step will be to evaluate the performance of the fitted models using Mean Squared Error (MSE). \n",
    "Report the MSE of the data in regression_part1.csv for your prediction of exam_score. You should report the MSE for the linear model fitted using sklearn and the model resulting from your closed-form solution. Comment on any differences in their performance."
   ]
  },
  {
   "cell_type": "code",
   "execution_count": 15,
   "metadata": {},
   "outputs": [
    {
     "name": "stdout",
     "output_type": "stream",
     "text": [
      "MSE for linear model using sklearn: 30.985472614541294\n",
      "MSE for linear model using closed-form solution: 30.98547261454129\n"
     ]
    }
   ],
   "source": [
    "# MSE for the linear model fittend using sklearn (calculated using actual output and predicted output)\n",
    "y_preds_sklearn = lr.predict(X) # predicted output\n",
    "mse_sklearn = mean_squared_error(y, y_preds_sklearn)\n",
    "\n",
    "# MSE for the linear model fittend using closed-form solution\n",
    "mse_np = mean_squared_error(y, y_preds_cf)\n",
    "\n",
    "print(\"MSE for linear model using sklearn: {}\".format(mse_sklearn))\n",
    "print(\"MSE for linear model using closed-form solution: {}\".format(mse_np))"
   ]
  },
  {
   "cell_type": "markdown",
   "metadata": {},
   "source": [
    "# (g) (4 points) Assume that the optimal value of w0 is 20, it is not but let's assume so for now. Create a plot where you vary w1 from −2 to +2 on the horizontal axis, and report the Mean Squared Error on the vertical axis for each setting of $w = [w_0, w_1]$ across the dataset. Describe the resulting plot. Where is its minimum? Is this value to be expected?\n",
    "Hint: You can try 100 values of $w_1$ i.e. $w_1 = np.linspace(-2,2, 100)$"
   ]
  },
  {
   "cell_type": "code",
   "execution_count": 16,
   "metadata": {},
   "outputs": [
    {
     "name": "stdout",
     "output_type": "stream",
     "text": [
      "The minimum is when w1 is equal to 1.3535353535353538\n"
     ]
    },
    {
     "data": {
      "image/png": "[encoded data removed]",
      "text/plain": [
       "<Figure size 432x288 with 1 Axes>"
      ]
     },
     "metadata": {
      "needs_background": "light"
     },
     "output_type": "display_data"
    }
   ],
   "source": [
    "# Generate 100 values of w1\n",
    "w1 = np.linspace(-2, 2, 100)\n",
    "mse = []\n",
    "# Loop through each value of w1 and use it to calculate predicted output and hence the MSE\n",
    "for w_1 in w1:\n",
    "    w_edited = [20, w_1] \n",
    "    y_preds_edited = X.dot(w_edited) # Predicted output with the edited model paramater w\n",
    "    error = mean_squared_error(y, y_preds_edited)\n",
    "    mse.append(error)\n",
    "\n",
    "idxOfMinValue_Y = mse.index(min(mse))\n",
    "minValue_X = w1[idxOfMinValue_Y]\n",
    "print(\"The minimum is when w1 is equal to {}\".format(minValue_X))\n",
    "\n",
    "plt.plot(w1, mse)\n",
    "plt.plot(minValue_X, min(mse), 'ro')\n",
    "#plt.annotate(\"(1.3535353535353538, 32.48096161535148)\", (1.3535353535353538, 32.48096161535148))\n",
    "plt.xlabel('Values of w1')\n",
    "plt.ylabel('MSE')\n",
    "plt.title('How value of w1 affects the Mean Squared Error')\n",
    "plt.show()"
   ]
  },
  {
   "cell_type": "markdown",
   "metadata": {},
   "source": [
    "# Question 2 : (18 total points) Nonlinear Regression\n",
    "In this question we will tackle regression using basis functions.\n",
    "Here we will look at a regression dataset where the attribute we want to predict (output) does not have a linear relationship with the input attribute (input) we can measure. To overcome this problem we will first use polynomial basis functions, where again $y_i = φ(x_i)w$. However, now the row vector $φ(x_i) = [1, x_i, x_i^2 , ..., x_i^M ]$, where M is an integer. The dataset is contained in regression_part2.csv. You should load it into a Pandas DataFrame using pandas.read_csv()."
   ]
  },
  {
   "cell_type": "code",
   "execution_count": 17,
   "metadata": {},
   "outputs": [],
   "source": [
    "# Load the dataset\n",
    "data_path = os.path.join(os.getcwd(), 'data', 'regression_part2.csv')\n",
    "dset2 = pd.read_csv(data_path, delimiter = ',')"
   ]
  },
  {
   "cell_type": "code",
   "execution_count": 18,
   "metadata": {},
   "outputs": [
    {
     "data": {
      "text/html": [
       "<div>\n",
       "<style scoped>\n",
       "    .dataframe tbody tr th:only-of-type {\n",
       "        vertical-align: middle;\n",
       "    }\n",
       "\n",
       "    .dataframe tbody tr th {\n",
       "        vertical-align: top;\n",
       "    }\n",
       "\n",
       "    .dataframe thead th {\n",
       "        text-align: right;\n",
       "    }\n",
       "</style>\n",
       "<table border=\"1\" class=\"dataframe\">\n",
       "  <thead>\n",
       "    <tr style=\"text-align: right;\">\n",
       "      <th></th>\n",
       "      <th>input</th>\n",
       "      <th>output</th>\n",
       "    </tr>\n",
       "  </thead>\n",
       "  <tbody>\n",
       "    <tr>\n",
       "      <th>0</th>\n",
       "      <td>2.728</td>\n",
       "      <td>9.088</td>\n",
       "    </tr>\n",
       "    <tr>\n",
       "      <th>1</th>\n",
       "      <td>3.244</td>\n",
       "      <td>12.786</td>\n",
       "    </tr>\n",
       "    <tr>\n",
       "      <th>2</th>\n",
       "      <td>-4.164</td>\n",
       "      <td>-10.016</td>\n",
       "    </tr>\n",
       "    <tr>\n",
       "      <th>3</th>\n",
       "      <td>4.875</td>\n",
       "      <td>32.976</td>\n",
       "    </tr>\n",
       "    <tr>\n",
       "      <th>4</th>\n",
       "      <td>3.329</td>\n",
       "      <td>10.437</td>\n",
       "    </tr>\n",
       "  </tbody>\n",
       "</table>\n",
       "</div>"
      ],
      "text/plain": [
       "   input  output\n",
       "0  2.728   9.088\n",
       "1  3.244  12.786\n",
       "2 -4.164 -10.016\n",
       "3  4.875  32.976\n",
       "4  3.329  10.437"
      ]
     },
     "execution_count": 18,
     "metadata": {},
     "output_type": "execute_result"
    }
   ],
   "source": [
    "dset2.head()"
   ]
  },
  {
   "cell_type": "code",
   "execution_count": 19,
   "metadata": {},
   "outputs": [
    {
     "data": {
      "text/html": [
       "<div>\n",
       "<style scoped>\n",
       "    .dataframe tbody tr th:only-of-type {\n",
       "        vertical-align: middle;\n",
       "    }\n",
       "\n",
       "    .dataframe tbody tr th {\n",
       "        vertical-align: top;\n",
       "    }\n",
       "\n",
       "    .dataframe thead th {\n",
       "        text-align: right;\n",
       "    }\n",
       "</style>\n",
       "<table border=\"1\" class=\"dataframe\">\n",
       "  <thead>\n",
       "    <tr style=\"text-align: right;\">\n",
       "      <th></th>\n",
       "      <th>input</th>\n",
       "      <th>output</th>\n",
       "    </tr>\n",
       "  </thead>\n",
       "  <tbody>\n",
       "    <tr>\n",
       "      <th>count</th>\n",
       "      <td>25.000000</td>\n",
       "      <td>25.00000</td>\n",
       "    </tr>\n",
       "    <tr>\n",
       "      <th>mean</th>\n",
       "      <td>0.817480</td>\n",
       "      <td>5.90728</td>\n",
       "    </tr>\n",
       "    <tr>\n",
       "      <th>std</th>\n",
       "      <td>3.277051</td>\n",
       "      <td>12.43568</td>\n",
       "    </tr>\n",
       "    <tr>\n",
       "      <th>min</th>\n",
       "      <td>-4.826000</td>\n",
       "      <td>-15.57700</td>\n",
       "    </tr>\n",
       "    <tr>\n",
       "      <th>25%</th>\n",
       "      <td>-2.588000</td>\n",
       "      <td>-1.46500</td>\n",
       "    </tr>\n",
       "    <tr>\n",
       "      <th>50%</th>\n",
       "      <td>2.633000</td>\n",
       "      <td>6.92900</td>\n",
       "    </tr>\n",
       "    <tr>\n",
       "      <th>75%</th>\n",
       "      <td>3.276000</td>\n",
       "      <td>11.38200</td>\n",
       "    </tr>\n",
       "    <tr>\n",
       "      <th>max</th>\n",
       "      <td>4.875000</td>\n",
       "      <td>32.97600</td>\n",
       "    </tr>\n",
       "  </tbody>\n",
       "</table>\n",
       "</div>"
      ],
      "text/plain": [
       "           input    output\n",
       "count  25.000000  25.00000\n",
       "mean    0.817480   5.90728\n",
       "std     3.277051  12.43568\n",
       "min    -4.826000 -15.57700\n",
       "25%    -2.588000  -1.46500\n",
       "50%     2.633000   6.92900\n",
       "75%     3.276000  11.38200\n",
       "max     4.875000  32.97600"
      ]
     },
     "execution_count": 19,
     "metadata": {},
     "output_type": "execute_result"
    }
   ],
   "source": [
    "dset2.describe()"
   ]
  },
  {
   "cell_type": "markdown",
   "metadata": {},
   "source": [
    "# (a) (5 points) Fit four different polynomial regression models to the data by varying the degree of polynomial features used i.e. M = 1 to 4. For example, M = 3 means that φ(xi) = [1, xi, xi2 , xi3 ]. Plot the resulting models on the same plot and also include the input data.\n",
    "Hint: You can again use the sklearn implementation of Linear Regression and you can also use PolynomialFeatures to generate the polynomial features. Again, set fit_intercept = False."
   ]
  },
  {
   "cell_type": "code",
   "execution_count": 20,
   "metadata": {},
   "outputs": [
    {
     "name": "stdout",
     "output_type": "stream",
     "text": [
      "[[ 2.728]\n",
      " [ 3.244]\n",
      " [-4.164]\n",
      " [ 4.875]\n",
      " [ 3.329]]\n",
      "[  9.088  12.786 -10.016  32.976  10.437]\n"
     ]
    }
   ],
   "source": [
    "# Assign columns from the dataset appropriately as input variables (X) and actual output (y)\n",
    "X = dset2.iloc[:,:-1].values\n",
    "y = dset2.iloc[:,-1].values\n",
    "print(X[:5])\n",
    "print(y[:5])"
   ]
  },
  {
   "cell_type": "code",
   "execution_count": 21,
   "metadata": {},
   "outputs": [
    {
     "data": {
      "image/png": "[encoded data removed]",
      "text/plain": [
       "<Figure size 504x504 with 1 Axes>"
      ]
     },
     "metadata": {
      "needs_background": "light"
     },
     "output_type": "display_data"
    }
   ],
   "source": [
    "import operator\n",
    "\n",
    "# transforms the existing features to higher degree features.\n",
    "poly = PolynomialFeatures(degree=1)\n",
    "X_poly = poly.fit_transform(X)\n",
    "\n",
    "# fit the transformed features to Linear Regression\n",
    "model = LinearRegression(fit_intercept=False)\n",
    "model.fit(X_poly, y)\n",
    "\n",
    "# predicting on training data-set\n",
    "y_pred_poly = model.predict(X_poly)\n",
    "\n",
    "# Sort transformed features and their corresponding output\n",
    "zipped = zip(X,y_pred_poly)\n",
    "sorted_zip = sorted(zipped, key=operator.itemgetter(0)) \n",
    "X_sorted, y_poly_sorted = zip(*sorted_zip) # Unzip\n",
    "\n",
    "plt.figure(figsize=(7,7))\n",
    "plt.scatter(X,y)\n",
    "plt.plot(X_sorted, y_poly_sorted, color='m')\n",
    "plt.xlabel('Input')\n",
    "plt.ylabel('Output')\n",
    "plt.title('M=2')\n",
    "plt.show()"
   ]
  },
  {
   "cell_type": "code",
   "execution_count": 22,
   "metadata": {},
   "outputs": [
    {
     "data": {
      "image/png": "[encoded data removed]",
      "text/plain": [
       "<Figure size 504x504 with 1 Axes>"
      ]
     },
     "metadata": {
      "needs_background": "light"
     },
     "output_type": "display_data"
    }
   ],
   "source": [
    "import operator\n",
    "\n",
    "# transforms the existing features to higher degree features.\n",
    "poly = PolynomialFeatures(degree=2)\n",
    "X_poly = poly.fit_transform(X)\n",
    "\n",
    "# fit the transformed features to Linear Regression\n",
    "model = LinearRegression(fit_intercept=False)\n",
    "model.fit(X_poly, y)\n",
    "\n",
    "# predicting on training data-set\n",
    "y_pred_poly = model.predict(X_poly)\n",
    "\n",
    "# Sort transformed features and their corresponding output\n",
    "zipped = zip(X,y_pred_poly)\n",
    "sorted_zip = sorted(zipped, key=operator.itemgetter(0)) \n",
    "X_sorted, y_poly_sorted = zip(*sorted_zip) # Unzip\n",
    "\n",
    "plt.figure(figsize=(7,7))\n",
    "plt.scatter(X,y)\n",
    "plt.plot(X_sorted, y_poly_sorted, color='m')\n",
    "plt.xlabel('Input')\n",
    "plt.ylabel('Output')\n",
    "plt.title('M=2')\n",
    "plt.show()"
   ]
  },
  {
   "cell_type": "code",
   "execution_count": 23,
   "metadata": {},
   "outputs": [
    {
     "data": {
      "image/png": "[encoded data removed]",
      "text/plain": [
       "<Figure size 504x504 with 1 Axes>"
      ]
     },
     "metadata": {
      "needs_background": "light"
     },
     "output_type": "display_data"
    }
   ],
   "source": [
    "import operator\n",
    "\n",
    "# transforms the existing features to higher degree features.\n",
    "poly = PolynomialFeatures(degree=3)\n",
    "X_poly = poly.fit_transform(X)\n",
    "\n",
    "# fit the transformed features to Linear Regression\n",
    "model = LinearRegression(fit_intercept=False)\n",
    "model.fit(X_poly, y)\n",
    "\n",
    "# predicting on training data-set\n",
    "y_pred_poly = model.predict(X_poly)\n",
    "\n",
    "# Sort transformed features and their corresponding output\n",
    "zipped = zip(X,y_pred_poly)\n",
    "sorted_zip = sorted(zipped, key=operator.itemgetter(0)) \n",
    "X_sorted, y_poly_sorted = zip(*sorted_zip) # Unzip\n",
    "\n",
    "plt.figure(figsize=(7,7))\n",
    "plt.scatter(X,y)\n",
    "plt.plot(X_sorted, y_poly_sorted, color='m')\n",
    "plt.xlabel('Input')\n",
    "plt.ylabel('Output')\n",
    "plt.title('M=3')\n",
    "plt.show()"
   ]
  },
  {
   "cell_type": "code",
   "execution_count": 24,
   "metadata": {},
   "outputs": [
    {
     "data": {
      "image/png": "[encoded data removed]",
      "text/plain": [
       "<Figure size 504x504 with 1 Axes>"
      ]
     },
     "metadata": {
      "needs_background": "light"
     },
     "output_type": "display_data"
    }
   ],
   "source": [
    "import operator\n",
    "\n",
    "# transforms the existing features to higher degree features.\n",
    "poly = PolynomialFeatures(degree=4)\n",
    "X_poly = poly.fit_transform(X)\n",
    "\n",
    "# fit the transformed features to Linear Regression\n",
    "model = LinearRegression(fit_intercept=False)\n",
    "model.fit(X_poly, y)\n",
    "\n",
    "# predicting on training data-set\n",
    "y_pred_poly = model.predict(X_poly)\n",
    "\n",
    "# Sort transformed features and their corresponding output\n",
    "zipped = zip(X,y_pred_poly)\n",
    "sorted_zip = sorted(zipped, key=operator.itemgetter(0)) \n",
    "X_sorted, y_poly_sorted = zip(*sorted_zip) # Unzip\n",
    "\n",
    "plt.figure(figsize=(7,7))\n",
    "plt.scatter(X,y)\n",
    "plt.plot(X_sorted, y_poly_sorted, color='m')\n",
    "plt.xlabel('Input')\n",
    "plt.ylabel('Output')\n",
    "plt.title('M=4')\n",
    "plt.show()"
   ]
  },
  {
   "cell_type": "code",
   "execution_count": 25,
   "metadata": {},
   "outputs": [
    {
     "data": {
      "image/png": "[encoded data removed]",
      "text/plain": [
       "<Figure size 504x504 with 1 Axes>"
      ]
     },
     "metadata": {
      "needs_background": "light"
     },
     "output_type": "display_data"
    }
   ],
   "source": [
    "import operator\n",
    "\n",
    "def Poly_Regression(degree):\n",
    "    # transforms the existing features to higher degree features.\n",
    "    poly = PolynomialFeatures(degree=degree)\n",
    "    X_poly = poly.fit_transform(X)\n",
    "\n",
    "    # fit the transformed features to Linear Regression\n",
    "    model = LinearRegression(fit_intercept=False)\n",
    "    model.fit(X_poly, y)\n",
    "\n",
    "    # predicting on training data-set\n",
    "    y_pred_poly = model.predict(X_poly)\n",
    "\n",
    "    # Sort transformed features and their corresponding output\n",
    "    zipped = zip(X,y_pred_poly)\n",
    "    sorted_zip = sorted(zipped, key=operator.itemgetter(0)) \n",
    "    X_sorted, y_poly_sorted = zip(*sorted_zip) # Unzip\n",
    "    \n",
    "    return X_sorted, y_poly_sorted\n",
    "\n",
    "#     plt.figure(figsize=(7,7))\n",
    "#     plt.scatter(X2,y2)\n",
    "#     plt.plot(X2_sorted, y_poly_sorted, color='m')\n",
    "    \n",
    "ListX = []\n",
    "ListY = []\n",
    "for deg in [1,2,3,4]:\n",
    "    curr_X,curr_y = Poly_Regression(deg)\n",
    "    ListX.append(curr_X)\n",
    "    ListY.append(curr_y)\n",
    "    \n",
    "plt.figure(figsize=(7,7))\n",
    "plt.scatter(X,y)\n",
    "for i in range(4):\n",
    "    plt.plot(ListX[i], ListY[i])\n",
    "plt.legend(['M=1', 'M=2', 'M=3', 'M=4'], loc='upper left')\n",
    "plt.xlabel('Input')\n",
    "plt.ylabel('Output')\n",
    "plt.title('Comparison of fitting polynomial curves of varying degrees')\n",
    "plt.show()"
   ]
  },
  {
   "cell_type": "markdown",
   "metadata": {},
   "source": [
    "# (b) (3 points) Create a bar plot where you display the Mean Squared Error of each of the four different polynomial regression models from the previous question."
   ]
  },
  {
   "cell_type": "code",
   "execution_count": 27,
   "metadata": {},
   "outputs": [
    {
     "data": {
      "image/png": "[encoded data removed]",
      "text/plain": [
       "<Figure size 504x504 with 1 Axes>"
      ]
     },
     "metadata": {
      "needs_background": "light"
     },
     "output_type": "display_data"
    }
   ],
   "source": [
    "plt.figure(figsize=(7,7))\n",
    "ListMSE = []\n",
    "for y_pred in ListY:\n",
    "    err = mean_squared_error(y,y_pred)\n",
    "    ListMSE.append(err)\n",
    "plt.bar(['1','2','3','4'], ListMSE, width=0.4)\n",
    "plt.xlabel(\"Degree of polynomial features\") \n",
    "plt.ylabel(\"Mean Squared Error\") \n",
    "plt.title(\"MSE of four polynomial regression models with different degrees\") \n",
    "plt.show() "
   ]
  },
  {
   "cell_type": "markdown",
   "metadata": {},
   "source": [
    "# (d) (6 points) Instead of using polynomial basis functions, in this final part we will use another type of basis function - radial basis functions (RBF). \n",
    "Specifically, we will define $φ(x_i) = [1,rbf(x_i;c_1,α),rbf(x_i;c_2,α),rbf(x_i;c_3,α),rbf(x_i;c_4,α)]$, where $rbf(x;c,α) = exp(−0.5(x − c)^2/α^2)$ is an RBF kernel with center c and width α. Note that in this example, we are using the same width α for each RBF, but different centers for each. Let `c1 = −4.0`, `c2 = −2.0`, `c3 = 2.0`, and `c4 = 4.0` and plot the resulting nonlinear predictions using the regression_part2.csv dataset for `α ∈ {0.2, 100, 1000}`. You can plot all three results on the same figure. Comment on the impact of larger or smaller values of α."
   ]
  },
  {
   "cell_type": "code",
   "execution_count": 29,
   "metadata": {},
   "outputs": [],
   "source": [
    "def rbf(x,c,a):\n",
    "    res = exp(-(0.5(x-c)^2)/a)\n",
    "    return res"
   ]
  },
  {
   "cell_type": "code",
   "execution_count": 28,
   "metadata": {},
   "outputs": [
    {
     "data": {
      "text/plain": [
       "<matplotlib.collections.PathCollection at 0x1a1f2d0810>"
      ]
     },
     "execution_count": 28,
     "metadata": {},
     "output_type": "execute_result"
    },
    {
     "data": {
      "image/png": "[encoded data removed]",
      "text/plain": [
       "<Figure size 432x288 with 1 Axes>"
      ]
     },
     "metadata": {
      "needs_background": "light"
     },
     "output_type": "display_data"
    }
   ],
   "source": [
    "centers = [-4.0, -2.0, 2.0, 4.0]\n",
    "widths = [0.2, 100, 1000]\n"
   ]
  }
 ],
 "metadata": {
  "kernelspec": {
   "display_name": "Python 3",
   "language": "python",
   "name": "python3"
  },
  "language_info": {
   "codemirror_mode": {
    "name": "ipython",
    "version": 3
   },
   "file_extension": ".py",
   "mimetype": "text/x-python",
   "name": "python",
   "nbconvert_exporter": "python",
   "pygments_lexer": "ipython3",
   "version": "3.7.7"
  }
 },
 "nbformat": 4,
 "nbformat_minor": 4
}
